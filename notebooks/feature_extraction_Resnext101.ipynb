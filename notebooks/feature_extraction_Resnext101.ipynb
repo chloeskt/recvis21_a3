{
 "cells": [
  {
   "cell_type": "code",
   "execution_count": 1,
   "id": "0374cefe-917b-499b-994e-6e070874a54e",
   "metadata": {},
   "outputs": [],
   "source": [
    "import torch\n",
    "import sys\n",
    "sys.path.append(\"/home/kaliayev/Documents/recvis21_a3\")\n",
    "\n",
    "%load_ext autoreload\n",
    "%autoreload 2\n",
    "\n",
    "from torch import nn\n",
    "from torchsummary import summary\n",
    "\n",
    "# Data initialization and loading\n",
    "from src.data import data_transforms\n",
    "from torchvision import datasets\n",
    "\n",
    "from PIL import Image\n",
    "from torchvision import transforms\n",
    "\n",
    "import seaborn as sns\n",
    "from matplotlib import pyplot as plt\n",
    "import numpy as np\n",
    "\n",
    "from tqdm.notebook import tqdm_notebook"
   ]
  },
  {
   "cell_type": "code",
   "execution_count": 2,
   "id": "196e36ce-5547-4c56-b8b8-da1a3533e79d",
   "metadata": {},
   "outputs": [
    {
     "name": "stderr",
     "output_type": "stream",
     "text": [
      "Using cache found in /home/kaliayev/.cache/torch/hub/facebookresearch_WSL-Images_main\n"
     ]
    }
   ],
   "source": [
    "MODEL = torch.hub.load(\"facebookresearch/WSL-Images\", \"resnext101_32x48d_wsl\")\n",
    "BATCH_SIZE = 32\n",
    "DATA_PATH = \"../299_cropped_bird_dataset\"\n",
    "DATA_TRANSFORMS = transforms.Compose(\n",
    "    [\n",
    "        transforms.transforms.Resize((299, 299)),\n",
    "        transforms.ToTensor(),\n",
    "        transforms.Normalize(mean=[0.485, 0.456, 0.406], std=[0.229, 0.224, 0.225]),\n",
    "    ]\n",
    ")\n",
    "EMBEDDINGS_PATH = \"../embeddings\"\n",
    "device = torch.device(\"cuda:0\" if torch.cuda.is_available() else \"cpu\")"
   ]
  },
  {
   "cell_type": "markdown",
   "id": "8269921c-2ecb-472f-8c07-d035cd2fa2cf",
   "metadata": {},
   "source": [
    "## Extract embeddings for images using a model pretrained on COCO"
   ]
  },
  {
   "cell_type": "code",
   "execution_count": 3,
   "id": "3fd7646f-19a2-45e9-9aa5-c54159a81be9",
   "metadata": {
    "collapsed": true,
    "jupyter": {
     "outputs_hidden": true
    },
    "tags": []
   },
   "outputs": [
    {
     "name": "stdout",
     "output_type": "stream",
     "text": [
      "----------------------------------------------------------------\n",
      "        Layer (type)               Output Shape         Param #\n",
      "================================================================\n",
      "            Conv2d-1         [-1, 64, 112, 112]           9,408\n",
      "       BatchNorm2d-2         [-1, 64, 112, 112]             128\n",
      "              ReLU-3         [-1, 64, 112, 112]               0\n",
      "         MaxPool2d-4           [-1, 64, 56, 56]               0\n",
      "            Conv2d-5         [-1, 1536, 56, 56]          98,304\n",
      "       BatchNorm2d-6         [-1, 1536, 56, 56]           3,072\n",
      "              ReLU-7         [-1, 1536, 56, 56]               0\n",
      "            Conv2d-8         [-1, 1536, 56, 56]         663,552\n",
      "       BatchNorm2d-9         [-1, 1536, 56, 56]           3,072\n",
      "             ReLU-10         [-1, 1536, 56, 56]               0\n",
      "           Conv2d-11          [-1, 256, 56, 56]         393,216\n",
      "      BatchNorm2d-12          [-1, 256, 56, 56]             512\n",
      "           Conv2d-13          [-1, 256, 56, 56]          16,384\n",
      "      BatchNorm2d-14          [-1, 256, 56, 56]             512\n",
      "             ReLU-15          [-1, 256, 56, 56]               0\n",
      "       Bottleneck-16          [-1, 256, 56, 56]               0\n",
      "           Conv2d-17         [-1, 1536, 56, 56]         393,216\n",
      "      BatchNorm2d-18         [-1, 1536, 56, 56]           3,072\n",
      "             ReLU-19         [-1, 1536, 56, 56]               0\n",
      "           Conv2d-20         [-1, 1536, 56, 56]         663,552\n",
      "      BatchNorm2d-21         [-1, 1536, 56, 56]           3,072\n",
      "             ReLU-22         [-1, 1536, 56, 56]               0\n",
      "           Conv2d-23          [-1, 256, 56, 56]         393,216\n",
      "      BatchNorm2d-24          [-1, 256, 56, 56]             512\n",
      "             ReLU-25          [-1, 256, 56, 56]               0\n",
      "       Bottleneck-26          [-1, 256, 56, 56]               0\n",
      "           Conv2d-27         [-1, 1536, 56, 56]         393,216\n",
      "      BatchNorm2d-28         [-1, 1536, 56, 56]           3,072\n",
      "             ReLU-29         [-1, 1536, 56, 56]               0\n",
      "           Conv2d-30         [-1, 1536, 56, 56]         663,552\n",
      "      BatchNorm2d-31         [-1, 1536, 56, 56]           3,072\n",
      "             ReLU-32         [-1, 1536, 56, 56]               0\n",
      "           Conv2d-33          [-1, 256, 56, 56]         393,216\n",
      "      BatchNorm2d-34          [-1, 256, 56, 56]             512\n",
      "             ReLU-35          [-1, 256, 56, 56]               0\n",
      "       Bottleneck-36          [-1, 256, 56, 56]               0\n",
      "           Conv2d-37         [-1, 3072, 56, 56]         786,432\n",
      "      BatchNorm2d-38         [-1, 3072, 56, 56]           6,144\n",
      "             ReLU-39         [-1, 3072, 56, 56]               0\n",
      "           Conv2d-40         [-1, 3072, 28, 28]       2,654,208\n",
      "      BatchNorm2d-41         [-1, 3072, 28, 28]           6,144\n",
      "             ReLU-42         [-1, 3072, 28, 28]               0\n",
      "           Conv2d-43          [-1, 512, 28, 28]       1,572,864\n",
      "      BatchNorm2d-44          [-1, 512, 28, 28]           1,024\n",
      "           Conv2d-45          [-1, 512, 28, 28]         131,072\n",
      "      BatchNorm2d-46          [-1, 512, 28, 28]           1,024\n",
      "             ReLU-47          [-1, 512, 28, 28]               0\n",
      "       Bottleneck-48          [-1, 512, 28, 28]               0\n",
      "           Conv2d-49         [-1, 3072, 28, 28]       1,572,864\n",
      "      BatchNorm2d-50         [-1, 3072, 28, 28]           6,144\n",
      "             ReLU-51         [-1, 3072, 28, 28]               0\n",
      "           Conv2d-52         [-1, 3072, 28, 28]       2,654,208\n",
      "      BatchNorm2d-53         [-1, 3072, 28, 28]           6,144\n",
      "             ReLU-54         [-1, 3072, 28, 28]               0\n",
      "           Conv2d-55          [-1, 512, 28, 28]       1,572,864\n",
      "      BatchNorm2d-56          [-1, 512, 28, 28]           1,024\n",
      "             ReLU-57          [-1, 512, 28, 28]               0\n",
      "       Bottleneck-58          [-1, 512, 28, 28]               0\n",
      "           Conv2d-59         [-1, 3072, 28, 28]       1,572,864\n",
      "      BatchNorm2d-60         [-1, 3072, 28, 28]           6,144\n",
      "             ReLU-61         [-1, 3072, 28, 28]               0\n",
      "           Conv2d-62         [-1, 3072, 28, 28]       2,654,208\n",
      "      BatchNorm2d-63         [-1, 3072, 28, 28]           6,144\n",
      "             ReLU-64         [-1, 3072, 28, 28]               0\n",
      "           Conv2d-65          [-1, 512, 28, 28]       1,572,864\n",
      "      BatchNorm2d-66          [-1, 512, 28, 28]           1,024\n",
      "             ReLU-67          [-1, 512, 28, 28]               0\n",
      "       Bottleneck-68          [-1, 512, 28, 28]               0\n",
      "           Conv2d-69         [-1, 3072, 28, 28]       1,572,864\n",
      "      BatchNorm2d-70         [-1, 3072, 28, 28]           6,144\n",
      "             ReLU-71         [-1, 3072, 28, 28]               0\n",
      "           Conv2d-72         [-1, 3072, 28, 28]       2,654,208\n",
      "      BatchNorm2d-73         [-1, 3072, 28, 28]           6,144\n",
      "             ReLU-74         [-1, 3072, 28, 28]               0\n",
      "           Conv2d-75          [-1, 512, 28, 28]       1,572,864\n",
      "      BatchNorm2d-76          [-1, 512, 28, 28]           1,024\n",
      "             ReLU-77          [-1, 512, 28, 28]               0\n",
      "       Bottleneck-78          [-1, 512, 28, 28]               0\n",
      "           Conv2d-79         [-1, 6144, 28, 28]       3,145,728\n",
      "      BatchNorm2d-80         [-1, 6144, 28, 28]          12,288\n",
      "             ReLU-81         [-1, 6144, 28, 28]               0\n",
      "           Conv2d-82         [-1, 6144, 14, 14]      10,616,832\n",
      "      BatchNorm2d-83         [-1, 6144, 14, 14]          12,288\n",
      "             ReLU-84         [-1, 6144, 14, 14]               0\n",
      "           Conv2d-85         [-1, 1024, 14, 14]       6,291,456\n",
      "      BatchNorm2d-86         [-1, 1024, 14, 14]           2,048\n",
      "           Conv2d-87         [-1, 1024, 14, 14]         524,288\n",
      "      BatchNorm2d-88         [-1, 1024, 14, 14]           2,048\n",
      "             ReLU-89         [-1, 1024, 14, 14]               0\n",
      "       Bottleneck-90         [-1, 1024, 14, 14]               0\n",
      "           Conv2d-91         [-1, 6144, 14, 14]       6,291,456\n",
      "      BatchNorm2d-92         [-1, 6144, 14, 14]          12,288\n",
      "             ReLU-93         [-1, 6144, 14, 14]               0\n",
      "           Conv2d-94         [-1, 6144, 14, 14]      10,616,832\n",
      "      BatchNorm2d-95         [-1, 6144, 14, 14]          12,288\n",
      "             ReLU-96         [-1, 6144, 14, 14]               0\n",
      "           Conv2d-97         [-1, 1024, 14, 14]       6,291,456\n",
      "      BatchNorm2d-98         [-1, 1024, 14, 14]           2,048\n",
      "             ReLU-99         [-1, 1024, 14, 14]               0\n",
      "      Bottleneck-100         [-1, 1024, 14, 14]               0\n",
      "          Conv2d-101         [-1, 6144, 14, 14]       6,291,456\n",
      "     BatchNorm2d-102         [-1, 6144, 14, 14]          12,288\n",
      "            ReLU-103         [-1, 6144, 14, 14]               0\n",
      "          Conv2d-104         [-1, 6144, 14, 14]      10,616,832\n",
      "     BatchNorm2d-105         [-1, 6144, 14, 14]          12,288\n",
      "            ReLU-106         [-1, 6144, 14, 14]               0\n",
      "          Conv2d-107         [-1, 1024, 14, 14]       6,291,456\n",
      "     BatchNorm2d-108         [-1, 1024, 14, 14]           2,048\n",
      "            ReLU-109         [-1, 1024, 14, 14]               0\n",
      "      Bottleneck-110         [-1, 1024, 14, 14]               0\n",
      "          Conv2d-111         [-1, 6144, 14, 14]       6,291,456\n",
      "     BatchNorm2d-112         [-1, 6144, 14, 14]          12,288\n",
      "            ReLU-113         [-1, 6144, 14, 14]               0\n",
      "          Conv2d-114         [-1, 6144, 14, 14]      10,616,832\n",
      "     BatchNorm2d-115         [-1, 6144, 14, 14]          12,288\n",
      "            ReLU-116         [-1, 6144, 14, 14]               0\n",
      "          Conv2d-117         [-1, 1024, 14, 14]       6,291,456\n",
      "     BatchNorm2d-118         [-1, 1024, 14, 14]           2,048\n",
      "            ReLU-119         [-1, 1024, 14, 14]               0\n",
      "      Bottleneck-120         [-1, 1024, 14, 14]               0\n",
      "          Conv2d-121         [-1, 6144, 14, 14]       6,291,456\n",
      "     BatchNorm2d-122         [-1, 6144, 14, 14]          12,288\n",
      "            ReLU-123         [-1, 6144, 14, 14]               0\n",
      "          Conv2d-124         [-1, 6144, 14, 14]      10,616,832\n",
      "     BatchNorm2d-125         [-1, 6144, 14, 14]          12,288\n",
      "            ReLU-126         [-1, 6144, 14, 14]               0\n",
      "          Conv2d-127         [-1, 1024, 14, 14]       6,291,456\n",
      "     BatchNorm2d-128         [-1, 1024, 14, 14]           2,048\n",
      "            ReLU-129         [-1, 1024, 14, 14]               0\n",
      "      Bottleneck-130         [-1, 1024, 14, 14]               0\n",
      "          Conv2d-131         [-1, 6144, 14, 14]       6,291,456\n",
      "     BatchNorm2d-132         [-1, 6144, 14, 14]          12,288\n",
      "            ReLU-133         [-1, 6144, 14, 14]               0\n",
      "          Conv2d-134         [-1, 6144, 14, 14]      10,616,832\n",
      "     BatchNorm2d-135         [-1, 6144, 14, 14]          12,288\n",
      "            ReLU-136         [-1, 6144, 14, 14]               0\n",
      "          Conv2d-137         [-1, 1024, 14, 14]       6,291,456\n",
      "     BatchNorm2d-138         [-1, 1024, 14, 14]           2,048\n",
      "            ReLU-139         [-1, 1024, 14, 14]               0\n",
      "      Bottleneck-140         [-1, 1024, 14, 14]               0\n",
      "          Conv2d-141         [-1, 6144, 14, 14]       6,291,456\n",
      "     BatchNorm2d-142         [-1, 6144, 14, 14]          12,288\n",
      "            ReLU-143         [-1, 6144, 14, 14]               0\n",
      "          Conv2d-144         [-1, 6144, 14, 14]      10,616,832\n",
      "     BatchNorm2d-145         [-1, 6144, 14, 14]          12,288\n",
      "            ReLU-146         [-1, 6144, 14, 14]               0\n",
      "          Conv2d-147         [-1, 1024, 14, 14]       6,291,456\n",
      "     BatchNorm2d-148         [-1, 1024, 14, 14]           2,048\n",
      "            ReLU-149         [-1, 1024, 14, 14]               0\n",
      "      Bottleneck-150         [-1, 1024, 14, 14]               0\n",
      "          Conv2d-151         [-1, 6144, 14, 14]       6,291,456\n",
      "     BatchNorm2d-152         [-1, 6144, 14, 14]          12,288\n",
      "            ReLU-153         [-1, 6144, 14, 14]               0\n",
      "          Conv2d-154         [-1, 6144, 14, 14]      10,616,832\n",
      "     BatchNorm2d-155         [-1, 6144, 14, 14]          12,288\n",
      "            ReLU-156         [-1, 6144, 14, 14]               0\n",
      "          Conv2d-157         [-1, 1024, 14, 14]       6,291,456\n",
      "     BatchNorm2d-158         [-1, 1024, 14, 14]           2,048\n",
      "            ReLU-159         [-1, 1024, 14, 14]               0\n",
      "      Bottleneck-160         [-1, 1024, 14, 14]               0\n",
      "          Conv2d-161         [-1, 6144, 14, 14]       6,291,456\n",
      "     BatchNorm2d-162         [-1, 6144, 14, 14]          12,288\n",
      "            ReLU-163         [-1, 6144, 14, 14]               0\n",
      "          Conv2d-164         [-1, 6144, 14, 14]      10,616,832\n",
      "     BatchNorm2d-165         [-1, 6144, 14, 14]          12,288\n",
      "            ReLU-166         [-1, 6144, 14, 14]               0\n",
      "          Conv2d-167         [-1, 1024, 14, 14]       6,291,456\n",
      "     BatchNorm2d-168         [-1, 1024, 14, 14]           2,048\n",
      "            ReLU-169         [-1, 1024, 14, 14]               0\n",
      "      Bottleneck-170         [-1, 1024, 14, 14]               0\n",
      "          Conv2d-171         [-1, 6144, 14, 14]       6,291,456\n",
      "     BatchNorm2d-172         [-1, 6144, 14, 14]          12,288\n",
      "            ReLU-173         [-1, 6144, 14, 14]               0\n",
      "          Conv2d-174         [-1, 6144, 14, 14]      10,616,832\n",
      "     BatchNorm2d-175         [-1, 6144, 14, 14]          12,288\n",
      "            ReLU-176         [-1, 6144, 14, 14]               0\n",
      "          Conv2d-177         [-1, 1024, 14, 14]       6,291,456\n",
      "     BatchNorm2d-178         [-1, 1024, 14, 14]           2,048\n",
      "            ReLU-179         [-1, 1024, 14, 14]               0\n",
      "      Bottleneck-180         [-1, 1024, 14, 14]               0\n",
      "          Conv2d-181         [-1, 6144, 14, 14]       6,291,456\n",
      "     BatchNorm2d-182         [-1, 6144, 14, 14]          12,288\n",
      "            ReLU-183         [-1, 6144, 14, 14]               0\n",
      "          Conv2d-184         [-1, 6144, 14, 14]      10,616,832\n",
      "     BatchNorm2d-185         [-1, 6144, 14, 14]          12,288\n",
      "            ReLU-186         [-1, 6144, 14, 14]               0\n",
      "          Conv2d-187         [-1, 1024, 14, 14]       6,291,456\n",
      "     BatchNorm2d-188         [-1, 1024, 14, 14]           2,048\n",
      "            ReLU-189         [-1, 1024, 14, 14]               0\n",
      "      Bottleneck-190         [-1, 1024, 14, 14]               0\n",
      "          Conv2d-191         [-1, 6144, 14, 14]       6,291,456\n",
      "     BatchNorm2d-192         [-1, 6144, 14, 14]          12,288\n",
      "            ReLU-193         [-1, 6144, 14, 14]               0\n",
      "          Conv2d-194         [-1, 6144, 14, 14]      10,616,832\n",
      "     BatchNorm2d-195         [-1, 6144, 14, 14]          12,288\n",
      "            ReLU-196         [-1, 6144, 14, 14]               0\n",
      "          Conv2d-197         [-1, 1024, 14, 14]       6,291,456\n",
      "     BatchNorm2d-198         [-1, 1024, 14, 14]           2,048\n",
      "            ReLU-199         [-1, 1024, 14, 14]               0\n",
      "      Bottleneck-200         [-1, 1024, 14, 14]               0\n",
      "          Conv2d-201         [-1, 6144, 14, 14]       6,291,456\n",
      "     BatchNorm2d-202         [-1, 6144, 14, 14]          12,288\n",
      "            ReLU-203         [-1, 6144, 14, 14]               0\n",
      "          Conv2d-204         [-1, 6144, 14, 14]      10,616,832\n",
      "     BatchNorm2d-205         [-1, 6144, 14, 14]          12,288\n",
      "            ReLU-206         [-1, 6144, 14, 14]               0\n",
      "          Conv2d-207         [-1, 1024, 14, 14]       6,291,456\n",
      "     BatchNorm2d-208         [-1, 1024, 14, 14]           2,048\n",
      "            ReLU-209         [-1, 1024, 14, 14]               0\n",
      "      Bottleneck-210         [-1, 1024, 14, 14]               0\n",
      "          Conv2d-211         [-1, 6144, 14, 14]       6,291,456\n",
      "     BatchNorm2d-212         [-1, 6144, 14, 14]          12,288\n",
      "            ReLU-213         [-1, 6144, 14, 14]               0\n",
      "          Conv2d-214         [-1, 6144, 14, 14]      10,616,832\n",
      "     BatchNorm2d-215         [-1, 6144, 14, 14]          12,288\n",
      "            ReLU-216         [-1, 6144, 14, 14]               0\n",
      "          Conv2d-217         [-1, 1024, 14, 14]       6,291,456\n",
      "     BatchNorm2d-218         [-1, 1024, 14, 14]           2,048\n",
      "            ReLU-219         [-1, 1024, 14, 14]               0\n",
      "      Bottleneck-220         [-1, 1024, 14, 14]               0\n",
      "          Conv2d-221         [-1, 6144, 14, 14]       6,291,456\n",
      "     BatchNorm2d-222         [-1, 6144, 14, 14]          12,288\n",
      "            ReLU-223         [-1, 6144, 14, 14]               0\n",
      "          Conv2d-224         [-1, 6144, 14, 14]      10,616,832\n",
      "     BatchNorm2d-225         [-1, 6144, 14, 14]          12,288\n",
      "            ReLU-226         [-1, 6144, 14, 14]               0\n",
      "          Conv2d-227         [-1, 1024, 14, 14]       6,291,456\n",
      "     BatchNorm2d-228         [-1, 1024, 14, 14]           2,048\n",
      "            ReLU-229         [-1, 1024, 14, 14]               0\n",
      "      Bottleneck-230         [-1, 1024, 14, 14]               0\n",
      "          Conv2d-231         [-1, 6144, 14, 14]       6,291,456\n",
      "     BatchNorm2d-232         [-1, 6144, 14, 14]          12,288\n",
      "            ReLU-233         [-1, 6144, 14, 14]               0\n",
      "          Conv2d-234         [-1, 6144, 14, 14]      10,616,832\n",
      "     BatchNorm2d-235         [-1, 6144, 14, 14]          12,288\n",
      "            ReLU-236         [-1, 6144, 14, 14]               0\n",
      "          Conv2d-237         [-1, 1024, 14, 14]       6,291,456\n",
      "     BatchNorm2d-238         [-1, 1024, 14, 14]           2,048\n",
      "            ReLU-239         [-1, 1024, 14, 14]               0\n",
      "      Bottleneck-240         [-1, 1024, 14, 14]               0\n",
      "          Conv2d-241         [-1, 6144, 14, 14]       6,291,456\n",
      "     BatchNorm2d-242         [-1, 6144, 14, 14]          12,288\n",
      "            ReLU-243         [-1, 6144, 14, 14]               0\n",
      "          Conv2d-244         [-1, 6144, 14, 14]      10,616,832\n",
      "     BatchNorm2d-245         [-1, 6144, 14, 14]          12,288\n",
      "            ReLU-246         [-1, 6144, 14, 14]               0\n",
      "          Conv2d-247         [-1, 1024, 14, 14]       6,291,456\n",
      "     BatchNorm2d-248         [-1, 1024, 14, 14]           2,048\n",
      "            ReLU-249         [-1, 1024, 14, 14]               0\n",
      "      Bottleneck-250         [-1, 1024, 14, 14]               0\n",
      "          Conv2d-251         [-1, 6144, 14, 14]       6,291,456\n",
      "     BatchNorm2d-252         [-1, 6144, 14, 14]          12,288\n",
      "            ReLU-253         [-1, 6144, 14, 14]               0\n",
      "          Conv2d-254         [-1, 6144, 14, 14]      10,616,832\n",
      "     BatchNorm2d-255         [-1, 6144, 14, 14]          12,288\n",
      "            ReLU-256         [-1, 6144, 14, 14]               0\n",
      "          Conv2d-257         [-1, 1024, 14, 14]       6,291,456\n",
      "     BatchNorm2d-258         [-1, 1024, 14, 14]           2,048\n",
      "            ReLU-259         [-1, 1024, 14, 14]               0\n",
      "      Bottleneck-260         [-1, 1024, 14, 14]               0\n",
      "          Conv2d-261         [-1, 6144, 14, 14]       6,291,456\n",
      "     BatchNorm2d-262         [-1, 6144, 14, 14]          12,288\n",
      "            ReLU-263         [-1, 6144, 14, 14]               0\n",
      "          Conv2d-264         [-1, 6144, 14, 14]      10,616,832\n",
      "     BatchNorm2d-265         [-1, 6144, 14, 14]          12,288\n",
      "            ReLU-266         [-1, 6144, 14, 14]               0\n",
      "          Conv2d-267         [-1, 1024, 14, 14]       6,291,456\n",
      "     BatchNorm2d-268         [-1, 1024, 14, 14]           2,048\n",
      "            ReLU-269         [-1, 1024, 14, 14]               0\n",
      "      Bottleneck-270         [-1, 1024, 14, 14]               0\n",
      "          Conv2d-271         [-1, 6144, 14, 14]       6,291,456\n",
      "     BatchNorm2d-272         [-1, 6144, 14, 14]          12,288\n",
      "            ReLU-273         [-1, 6144, 14, 14]               0\n",
      "          Conv2d-274         [-1, 6144, 14, 14]      10,616,832\n",
      "     BatchNorm2d-275         [-1, 6144, 14, 14]          12,288\n",
      "            ReLU-276         [-1, 6144, 14, 14]               0\n",
      "          Conv2d-277         [-1, 1024, 14, 14]       6,291,456\n",
      "     BatchNorm2d-278         [-1, 1024, 14, 14]           2,048\n",
      "            ReLU-279         [-1, 1024, 14, 14]               0\n",
      "      Bottleneck-280         [-1, 1024, 14, 14]               0\n",
      "          Conv2d-281         [-1, 6144, 14, 14]       6,291,456\n",
      "     BatchNorm2d-282         [-1, 6144, 14, 14]          12,288\n",
      "            ReLU-283         [-1, 6144, 14, 14]               0\n",
      "          Conv2d-284         [-1, 6144, 14, 14]      10,616,832\n",
      "     BatchNorm2d-285         [-1, 6144, 14, 14]          12,288\n",
      "            ReLU-286         [-1, 6144, 14, 14]               0\n",
      "          Conv2d-287         [-1, 1024, 14, 14]       6,291,456\n",
      "     BatchNorm2d-288         [-1, 1024, 14, 14]           2,048\n",
      "            ReLU-289         [-1, 1024, 14, 14]               0\n",
      "      Bottleneck-290         [-1, 1024, 14, 14]               0\n",
      "          Conv2d-291         [-1, 6144, 14, 14]       6,291,456\n",
      "     BatchNorm2d-292         [-1, 6144, 14, 14]          12,288\n",
      "            ReLU-293         [-1, 6144, 14, 14]               0\n",
      "          Conv2d-294         [-1, 6144, 14, 14]      10,616,832\n",
      "     BatchNorm2d-295         [-1, 6144, 14, 14]          12,288\n",
      "            ReLU-296         [-1, 6144, 14, 14]               0\n",
      "          Conv2d-297         [-1, 1024, 14, 14]       6,291,456\n",
      "     BatchNorm2d-298         [-1, 1024, 14, 14]           2,048\n",
      "            ReLU-299         [-1, 1024, 14, 14]               0\n",
      "      Bottleneck-300         [-1, 1024, 14, 14]               0\n",
      "          Conv2d-301         [-1, 6144, 14, 14]       6,291,456\n",
      "     BatchNorm2d-302         [-1, 6144, 14, 14]          12,288\n",
      "            ReLU-303         [-1, 6144, 14, 14]               0\n",
      "          Conv2d-304         [-1, 6144, 14, 14]      10,616,832\n",
      "     BatchNorm2d-305         [-1, 6144, 14, 14]          12,288\n",
      "            ReLU-306         [-1, 6144, 14, 14]               0\n",
      "          Conv2d-307         [-1, 1024, 14, 14]       6,291,456\n",
      "     BatchNorm2d-308         [-1, 1024, 14, 14]           2,048\n",
      "            ReLU-309         [-1, 1024, 14, 14]               0\n",
      "      Bottleneck-310         [-1, 1024, 14, 14]               0\n",
      "          Conv2d-311        [-1, 12288, 14, 14]      12,582,912\n",
      "     BatchNorm2d-312        [-1, 12288, 14, 14]          24,576\n",
      "            ReLU-313        [-1, 12288, 14, 14]               0\n",
      "          Conv2d-314          [-1, 12288, 7, 7]      42,467,328\n",
      "     BatchNorm2d-315          [-1, 12288, 7, 7]          24,576\n",
      "            ReLU-316          [-1, 12288, 7, 7]               0\n",
      "          Conv2d-317           [-1, 2048, 7, 7]      25,165,824\n",
      "     BatchNorm2d-318           [-1, 2048, 7, 7]           4,096\n",
      "          Conv2d-319           [-1, 2048, 7, 7]       2,097,152\n",
      "     BatchNorm2d-320           [-1, 2048, 7, 7]           4,096\n",
      "            ReLU-321           [-1, 2048, 7, 7]               0\n",
      "      Bottleneck-322           [-1, 2048, 7, 7]               0\n",
      "          Conv2d-323          [-1, 12288, 7, 7]      25,165,824\n",
      "     BatchNorm2d-324          [-1, 12288, 7, 7]          24,576\n",
      "            ReLU-325          [-1, 12288, 7, 7]               0\n",
      "          Conv2d-326          [-1, 12288, 7, 7]      42,467,328\n",
      "     BatchNorm2d-327          [-1, 12288, 7, 7]          24,576\n",
      "            ReLU-328          [-1, 12288, 7, 7]               0\n",
      "          Conv2d-329           [-1, 2048, 7, 7]      25,165,824\n",
      "     BatchNorm2d-330           [-1, 2048, 7, 7]           4,096\n",
      "            ReLU-331           [-1, 2048, 7, 7]               0\n",
      "      Bottleneck-332           [-1, 2048, 7, 7]               0\n",
      "          Conv2d-333          [-1, 12288, 7, 7]      25,165,824\n",
      "     BatchNorm2d-334          [-1, 12288, 7, 7]          24,576\n",
      "            ReLU-335          [-1, 12288, 7, 7]               0\n",
      "          Conv2d-336          [-1, 12288, 7, 7]      42,467,328\n",
      "     BatchNorm2d-337          [-1, 12288, 7, 7]          24,576\n",
      "            ReLU-338          [-1, 12288, 7, 7]               0\n",
      "          Conv2d-339           [-1, 2048, 7, 7]      25,165,824\n",
      "     BatchNorm2d-340           [-1, 2048, 7, 7]           4,096\n",
      "            ReLU-341           [-1, 2048, 7, 7]               0\n",
      "      Bottleneck-342           [-1, 2048, 7, 7]               0\n",
      "AdaptiveAvgPool2d-343           [-1, 2048, 1, 1]               0\n",
      "================================================================\n",
      "Total params: 826,362,176\n",
      "Trainable params: 826,362,176\n",
      "Non-trainable params: 0\n",
      "----------------------------------------------------------------\n",
      "Input size (MB): 0.57\n",
      "Forward/backward pass size (MB): 3057.92\n",
      "Params size (MB): 3152.32\n",
      "Estimated Total Size (MB): 6210.82\n",
      "----------------------------------------------------------------\n"
     ]
    }
   ],
   "source": [
    "def slice_model(original_model, from_layer=None, to_layer=None):\n",
    "    return nn.Sequential(*list(original_model.children())[from_layer:to_layer])\n",
    "\n",
    "model_conv_features = slice_model(MODEL, to_layer=-1).to(device)\n",
    "\n",
    "# Get summary of the model\n",
    "summary(model_conv_features, input_size=(3,224,224))"
   ]
  },
  {
   "cell_type": "code",
   "execution_count": 4,
   "id": "c697677c-7466-41c9-8dea-d459c73aa898",
   "metadata": {},
   "outputs": [
    {
     "data": {
      "image/png": "[encoded data removed]",
      "text/plain": [
       "<PIL.JpegImagePlugin.JpegImageFile image mode=RGB size=300x144 at 0x7F7543C408B0>"
      ]
     },
     "execution_count": 4,
     "metadata": {},
     "output_type": "execute_result"
    }
   ],
   "source": [
    "filename = \"../299_cropped_bird_dataset/train_images/034.Gray_crowned_Rosy_Finch/Gray_Crowned_Rosy_Finch_0064_27007.jpg\"\n",
    "input_image = Image.open(filename)\n",
    "input_image"
   ]
  },
  {
   "cell_type": "code",
   "execution_count": 5,
   "id": "9d64800f-4370-4932-86d6-48295a9a24a3",
   "metadata": {},
   "outputs": [],
   "source": [
    "# pre-processing required by ResNext\n",
    "preprocess = transforms.Compose([\n",
    "    transforms.Resize((256,256)),\n",
    "    #transforms.CenterCrop(224),\n",
    "    transforms.ToTensor(),\n",
    "    transforms.Normalize(mean=[0.485, 0.456, 0.406], std=[0.229, 0.224, 0.225]),\n",
    "])\n",
    "\n",
    "input_tensor = preprocess(input_image)"
   ]
  },
  {
   "cell_type": "code",
   "execution_count": 6,
   "id": "0e2264be-78dc-42b5-9dce-87cff6f13e42",
   "metadata": {},
   "outputs": [
    {
     "name": "stderr",
     "output_type": "stream",
     "text": [
      "Clipping input data to the valid range for imshow with RGB data ([0..1] for floats or [0..255] for integers).\n"
     ]
    },
    {
     "data": {
      "image/png": "[encoded data removed]",
      "text/plain": [
       "<Figure size 432x288 with 1 Axes>"
      ]
     },
     "metadata": {
      "needs_background": "light"
     },
     "output_type": "display_data"
    }
   ],
   "source": [
    "# Plotting the preprocessed picture to be usable by the model\n",
    "# the range of values now fall outside the [0..1] RGB valid range\n",
    "plt.imshow(np.moveaxis(input_tensor.numpy(), 0, -1 ))\n",
    "plt.show()"
   ]
  },
  {
   "cell_type": "code",
   "execution_count": 7,
   "id": "2a808470-f2da-44ab-8412-422626b415b5",
   "metadata": {},
   "outputs": [
    {
     "name": "stdout",
     "output_type": "stream",
     "text": [
      "shape torch.Size([1, 2048])\n"
     ]
    }
   ],
   "source": [
    "input_batch = torch.stack([input_tensor])\n",
    "input_batch = input_batch.to(device)\n",
    "\n",
    "# applying the model to the pre-processed picture and extracting the 2048 ResNext features\n",
    "with torch.no_grad():\n",
    "    output = model_conv_features(input_batch).flatten(start_dim=1)\n",
    "print('shape', output.shape)"
   ]
  },
  {
   "cell_type": "code",
   "execution_count": 8,
   "id": "7db734d1-11ad-478c-8356-dde05e0a951f",
   "metadata": {},
   "outputs": [
    {
     "data": {
      "text/plain": [
       "tensor([[0.7396, 0.8543, 0.8735,  ..., 0.5520, 0.8713, 0.9324]],\n",
       "       device='cuda:0')"
      ]
     },
     "execution_count": 8,
     "metadata": {},
     "output_type": "execute_result"
    }
   ],
   "source": [
    "output"
   ]
  },
  {
   "cell_type": "code",
   "execution_count": 9,
   "id": "7e47cd4e-64c0-4e3f-ab2f-5e9c1c9cd94a",
   "metadata": {},
   "outputs": [
    {
     "data": {
      "image/png": "[encoded data removed]",
      "text/plain": [
       "<Figure size 360x360 with 1 Axes>"
      ]
     },
     "metadata": {
      "needs_background": "light"
     },
     "output_type": "display_data"
    }
   ],
   "source": [
    "sns.displot(output[0].cpu().numpy())\n",
    "# plt.xscale('log')\n",
    "plt.yscale('log')\n",
    "plt.title('Embedding febature values for the sample picture')\n",
    "plt.show()"
   ]
  },
  {
   "cell_type": "markdown",
   "id": "5ca4565f-f19d-48e6-9085-b235fd59b0fc",
   "metadata": {},
   "source": [
    "## Now that we've done it on a single image, let's do it on all the images"
   ]
  },
  {
   "cell_type": "code",
   "execution_count": 10,
   "id": "7e81946c-37b6-4ab8-968d-241e96f6148c",
   "metadata": {
    "tags": []
   },
   "outputs": [
    {
     "name": "stderr",
     "output_type": "stream",
     "text": [
      "Using cache found in /home/kaliayev/.cache/torch/hub/facebookresearch_WSL-Images_main\n"
     ]
    },
    {
     "name": "stdout",
     "output_type": "stream",
     "text": [
      "Start working on:  train\n"
     ]
    },
    {
     "name": "stderr",
     "output_type": "stream",
     "text": [
      "  0%|                                                                                                                                                                                  | 0/34 [00:00<?, ?it/s]"
     ]
    },
    {
     "name": "stdout",
     "output_type": "stream",
     "text": [
      "torch.Size([32, 3, 299, 299])\n"
     ]
    },
    {
     "name": "stderr",
     "output_type": "stream",
     "text": [
      "  3%|█████                                                                                                                                                                     | 1/34 [00:29<16:01, 29.14s/it]"
     ]
    },
    {
     "name": "stdout",
     "output_type": "stream",
     "text": [
      "torch.Size([32, 3, 299, 299])\n"
     ]
    },
    {
     "name": "stderr",
     "output_type": "stream",
     "text": [
      "  6%|██████████                                                                                                                                                                | 2/34 [00:58<15:34, 29.21s/it]"
     ]
    },
    {
     "name": "stdout",
     "output_type": "stream",
     "text": [
      "torch.Size([32, 3, 299, 299])\n"
     ]
    },
    {
     "name": "stderr",
     "output_type": "stream",
     "text": [
      "  9%|███████████████                                                                                                                                                           | 3/34 [01:27<15:06, 29.24s/it]"
     ]
    },
    {
     "name": "stdout",
     "output_type": "stream",
     "text": [
      "torch.Size([32, 3, 299, 299])\n"
     ]
    },
    {
     "name": "stderr",
     "output_type": "stream",
     "text": [
      " 12%|████████████████████                                                                                                                                                      | 4/34 [01:56<14:37, 29.24s/it]"
     ]
    },
    {
     "name": "stdout",
     "output_type": "stream",
     "text": [
      "torch.Size([32, 3, 299, 299])\n"
     ]
    },
    {
     "name": "stderr",
     "output_type": "stream",
     "text": [
      " 15%|█████████████████████████                                                                                                                                                 | 5/34 [02:26<14:08, 29.25s/it]"
     ]
    },
    {
     "name": "stdout",
     "output_type": "stream",
     "text": [
      "torch.Size([32, 3, 299, 299])\n"
     ]
    },
    {
     "name": "stderr",
     "output_type": "stream",
     "text": [
      " 18%|██████████████████████████████                                                                                                                                            | 6/34 [02:55<13:39, 29.26s/it]"
     ]
    },
    {
     "name": "stdout",
     "output_type": "stream",
     "text": [
      "torch.Size([32, 3, 299, 299])\n"
     ]
    },
    {
     "name": "stderr",
     "output_type": "stream",
     "text": [
      " 21%|███████████████████████████████████                                                                                                                                       | 7/34 [03:24<13:09, 29.25s/it]"
     ]
    },
    {
     "name": "stdout",
     "output_type": "stream",
     "text": [
      "torch.Size([32, 3, 299, 299])\n"
     ]
    },
    {
     "name": "stderr",
     "output_type": "stream",
     "text": [
      " 24%|████████████████████████████████████████                                                                                                                                  | 8/34 [03:53<12:40, 29.27s/it]"
     ]
    },
    {
     "name": "stdout",
     "output_type": "stream",
     "text": [
      "torch.Size([32, 3, 299, 299])\n"
     ]
    },
    {
     "name": "stderr",
     "output_type": "stream",
     "text": [
      " 26%|█████████████████████████████████████████████                                                                                                                             | 9/34 [04:23<12:11, 29.25s/it]"
     ]
    },
    {
     "name": "stdout",
     "output_type": "stream",
     "text": [
      "torch.Size([32, 3, 299, 299])\n"
     ]
    },
    {
     "name": "stderr",
     "output_type": "stream",
     "text": [
      " 29%|█████████████████████████████████████████████████▋                                                                                                                       | 10/34 [04:52<11:41, 29.24s/it]"
     ]
    },
    {
     "name": "stdout",
     "output_type": "stream",
     "text": [
      "torch.Size([32, 3, 299, 299])\n"
     ]
    },
    {
     "name": "stderr",
     "output_type": "stream",
     "text": [
      " 32%|██████████████████████████████████████████████████████▋                                                                                                                  | 11/34 [05:21<11:12, 29.24s/it]"
     ]
    },
    {
     "name": "stdout",
     "output_type": "stream",
     "text": [
      "torch.Size([32, 3, 299, 299])\n"
     ]
    },
    {
     "name": "stderr",
     "output_type": "stream",
     "text": [
      " 35%|███████████████████████████████████████████████████████████▋                                                                                                             | 12/34 [05:50<10:43, 29.26s/it]"
     ]
    },
    {
     "name": "stdout",
     "output_type": "stream",
     "text": [
      "torch.Size([32, 3, 299, 299])\n"
     ]
    },
    {
     "name": "stderr",
     "output_type": "stream",
     "text": [
      " 38%|████████████████████████████████████████████████████████████████▌                                                                                                        | 13/34 [06:20<10:14, 29.25s/it]"
     ]
    },
    {
     "name": "stdout",
     "output_type": "stream",
     "text": [
      "torch.Size([32, 3, 299, 299])\n"
     ]
    },
    {
     "name": "stderr",
     "output_type": "stream",
     "text": [
      " 41%|█████████████████████████████████████████████████████████████████████▌                                                                                                   | 14/34 [06:49<09:45, 29.25s/it]"
     ]
    },
    {
     "name": "stdout",
     "output_type": "stream",
     "text": [
      "torch.Size([32, 3, 299, 299])\n"
     ]
    },
    {
     "name": "stderr",
     "output_type": "stream",
     "text": [
      " 44%|██████████████████████████████████████████████████████████████████████████▌                                                                                              | 15/34 [07:18<09:15, 29.25s/it]"
     ]
    },
    {
     "name": "stdout",
     "output_type": "stream",
     "text": [
      "torch.Size([32, 3, 299, 299])\n"
     ]
    },
    {
     "name": "stderr",
     "output_type": "stream",
     "text": [
      " 47%|███████████████████████████████████████████████████████████████████████████████▌                                                                                         | 16/34 [07:47<08:46, 29.26s/it]"
     ]
    },
    {
     "name": "stdout",
     "output_type": "stream",
     "text": [
      "torch.Size([32, 3, 299, 299])\n"
     ]
    },
    {
     "name": "stderr",
     "output_type": "stream",
     "text": [
      " 50%|████████████████████████████████████████████████████████████████████████████████████▌                                                                                    | 17/34 [08:17<08:17, 29.27s/it]"
     ]
    },
    {
     "name": "stdout",
     "output_type": "stream",
     "text": [
      "torch.Size([32, 3, 299, 299])\n"
     ]
    },
    {
     "name": "stderr",
     "output_type": "stream",
     "text": [
      " 53%|█████████████████████████████████████████████████████████████████████████████████████████▍                                                                               | 18/34 [08:46<07:48, 29.27s/it]"
     ]
    },
    {
     "name": "stdout",
     "output_type": "stream",
     "text": [
      "torch.Size([32, 3, 299, 299])\n"
     ]
    },
    {
     "name": "stderr",
     "output_type": "stream",
     "text": [
      " 56%|██████████████████████████████████████████████████████████████████████████████████████████████▍                                                                          | 19/34 [09:15<07:19, 29.27s/it]"
     ]
    },
    {
     "name": "stdout",
     "output_type": "stream",
     "text": [
      "torch.Size([32, 3, 299, 299])\n"
     ]
    },
    {
     "name": "stderr",
     "output_type": "stream",
     "text": [
      " 59%|███████████████████████████████████████████████████████████████████████████████████████████████████▍                                                                     | 20/34 [09:45<06:50, 29.29s/it]"
     ]
    },
    {
     "name": "stdout",
     "output_type": "stream",
     "text": [
      "torch.Size([32, 3, 299, 299])\n"
     ]
    },
    {
     "name": "stderr",
     "output_type": "stream",
     "text": [
      " 62%|████████████████████████████████████████████████████████████████████████████████████████████████████████▍                                                                | 21/34 [10:14<06:20, 29.30s/it]"
     ]
    },
    {
     "name": "stdout",
     "output_type": "stream",
     "text": [
      "torch.Size([32, 3, 299, 299])\n"
     ]
    },
    {
     "name": "stderr",
     "output_type": "stream",
     "text": [
      " 65%|█████████████████████████████████████████████████████████████████████████████████████████████████████████████▎                                                           | 22/34 [10:43<05:51, 29.30s/it]"
     ]
    },
    {
     "name": "stdout",
     "output_type": "stream",
     "text": [
      "torch.Size([32, 3, 299, 299])\n"
     ]
    },
    {
     "name": "stderr",
     "output_type": "stream",
     "text": [
      " 68%|██████████████████████████████████████████████████████████████████████████████████████████████████████████████████▎                                                      | 23/34 [11:13<05:22, 29.29s/it]"
     ]
    },
    {
     "name": "stdout",
     "output_type": "stream",
     "text": [
      "torch.Size([32, 3, 299, 299])\n"
     ]
    },
    {
     "name": "stderr",
     "output_type": "stream",
     "text": [
      " 71%|███████████████████████████████████████████████████████████████████████████████████████████████████████████████████████▎                                                 | 24/34 [11:42<04:53, 29.31s/it]"
     ]
    },
    {
     "name": "stdout",
     "output_type": "stream",
     "text": [
      "torch.Size([32, 3, 299, 299])\n"
     ]
    },
    {
     "name": "stderr",
     "output_type": "stream",
     "text": [
      " 74%|████████████████████████████████████████████████████████████████████████████████████████████████████████████████████████████▎                                            | 25/34 [12:11<04:23, 29.30s/it]"
     ]
    },
    {
     "name": "stdout",
     "output_type": "stream",
     "text": [
      "torch.Size([32, 3, 299, 299])\n"
     ]
    },
    {
     "name": "stderr",
     "output_type": "stream",
     "text": [
      " 76%|█████████████████████████████████████████████████████████████████████████████████████████████████████████████████████████████████▏                                       | 26/34 [12:40<03:54, 29.30s/it]"
     ]
    },
    {
     "name": "stdout",
     "output_type": "stream",
     "text": [
      "torch.Size([32, 3, 299, 299])\n"
     ]
    },
    {
     "name": "stderr",
     "output_type": "stream",
     "text": [
      " 79%|██████████████████████████████████████████████████████████████████████████████████████████████████████████████████████████████████████▏                                  | 27/34 [13:10<03:25, 29.29s/it]"
     ]
    },
    {
     "name": "stdout",
     "output_type": "stream",
     "text": [
      "torch.Size([32, 3, 299, 299])\n"
     ]
    },
    {
     "name": "stderr",
     "output_type": "stream",
     "text": [
      " 82%|███████████████████████████████████████████████████████████████████████████████████████████████████████████████████████████████████████████▏                             | 28/34 [13:39<02:55, 29.30s/it]"
     ]
    },
    {
     "name": "stdout",
     "output_type": "stream",
     "text": [
      "torch.Size([32, 3, 299, 299])\n"
     ]
    },
    {
     "name": "stderr",
     "output_type": "stream",
     "text": [
      " 85%|████████████████████████████████████████████████████████████████████████████████████████████████████████████████████████████████████████████████▏                        | 29/34 [14:08<02:26, 29.30s/it]"
     ]
    },
    {
     "name": "stdout",
     "output_type": "stream",
     "text": [
      "torch.Size([32, 3, 299, 299])\n"
     ]
    },
    {
     "name": "stderr",
     "output_type": "stream",
     "text": [
      " 88%|█████████████████████████████████████████████████████████████████████████████████████████████████████████████████████████████████████████████████████                    | 30/34 [14:38<01:57, 29.30s/it]"
     ]
    },
    {
     "name": "stdout",
     "output_type": "stream",
     "text": [
      "torch.Size([32, 3, 299, 299])\n"
     ]
    },
    {
     "name": "stderr",
     "output_type": "stream",
     "text": [
      " 91%|██████████████████████████████████████████████████████████████████████████████████████████████████████████████████████████████████████████████████████████               | 31/34 [15:07<01:27, 29.29s/it]"
     ]
    },
    {
     "name": "stdout",
     "output_type": "stream",
     "text": [
      "torch.Size([32, 3, 299, 299])\n"
     ]
    },
    {
     "name": "stderr",
     "output_type": "stream",
     "text": [
      " 94%|███████████████████████████████████████████████████████████████████████████████████████████████████████████████████████████████████████████████████████████████          | 32/34 [15:36<00:58, 29.29s/it]"
     ]
    },
    {
     "name": "stdout",
     "output_type": "stream",
     "text": [
      "torch.Size([32, 3, 299, 299])\n"
     ]
    },
    {
     "name": "stderr",
     "output_type": "stream",
     "text": [
      " 97%|████████████████████████████████████████████████████████████████████████████████████████████████████████████████████████████████████████████████████████████████████     | 33/34 [16:06<00:29, 29.30s/it]"
     ]
    },
    {
     "name": "stdout",
     "output_type": "stream",
     "text": [
      "torch.Size([26, 3, 299, 299])\n"
     ]
    },
    {
     "name": "stderr",
     "output_type": "stream",
     "text": [
      "100%|█████████████████████████████████████████████████████████████████████████████████████████████████████████████████████████████████████████████████████████████████████████| 34/34 [16:30<00:00, 29.12s/it]\n"
     ]
    },
    {
     "name": "stdout",
     "output_type": "stream",
     "text": [
      "Creating embeddings folder\n",
      "Saving all features and labels for train\n",
      "Saved 1082 features map and 1082 labels\n",
      "Start working on:  val\n"
     ]
    },
    {
     "name": "stderr",
     "output_type": "stream",
     "text": [
      "  0%|                                                                                                                                                                                   | 0/4 [00:00<?, ?it/s]"
     ]
    },
    {
     "name": "stdout",
     "output_type": "stream",
     "text": [
      "torch.Size([32, 3, 299, 299])\n"
     ]
    },
    {
     "name": "stderr",
     "output_type": "stream",
     "text": [
      " 25%|██████████████████████████████████████████▊                                                                                                                                | 1/4 [00:29<01:27, 29.29s/it]"
     ]
    },
    {
     "name": "stdout",
     "output_type": "stream",
     "text": [
      "torch.Size([32, 3, 299, 299])\n"
     ]
    },
    {
     "name": "stderr",
     "output_type": "stream",
     "text": [
      " 50%|█████████████████████████████████████████████████████████████████████████████████████▌                                                                                     | 2/4 [00:58<00:58, 29.29s/it]"
     ]
    },
    {
     "name": "stdout",
     "output_type": "stream",
     "text": [
      "torch.Size([32, 3, 299, 299])\n"
     ]
    },
    {
     "name": "stderr",
     "output_type": "stream",
     "text": [
      " 75%|████████████████████████████████████████████████████████████████████████████████████████████████████████████████████████████████▎                                          | 3/4 [01:27<00:29, 29.29s/it]"
     ]
    },
    {
     "name": "stdout",
     "output_type": "stream",
     "text": [
      "torch.Size([7, 3, 299, 299])\n"
     ]
    },
    {
     "name": "stderr",
     "output_type": "stream",
     "text": [
      "100%|███████████████████████████████████████████████████████████████████████████████████████████████████████████████████████████████████████████████████████████████████████████| 4/4 [01:34<00:00, 23.64s/it]\n"
     ]
    },
    {
     "name": "stdout",
     "output_type": "stream",
     "text": [
      "Saving all features and labels for val\n",
      "Saved 103 features map and 103 labels\n",
      "Start working on:  test\n"
     ]
    },
    {
     "name": "stderr",
     "output_type": "stream",
     "text": [
      "  0%|                                                                                                                                                                                  | 0/17 [00:00<?, ?it/s]"
     ]
    },
    {
     "name": "stdout",
     "output_type": "stream",
     "text": [
      "torch.Size([32, 3, 299, 299])\n"
     ]
    },
    {
     "name": "stderr",
     "output_type": "stream",
     "text": [
      "  6%|██████████                                                                                                                                                                | 1/17 [00:29<07:47, 29.24s/it]"
     ]
    },
    {
     "name": "stdout",
     "output_type": "stream",
     "text": [
      "torch.Size([32, 3, 299, 299])\n"
     ]
    },
    {
     "name": "stderr",
     "output_type": "stream",
     "text": [
      " 12%|████████████████████                                                                                                                                                      | 2/17 [00:58<07:19, 29.29s/it]"
     ]
    },
    {
     "name": "stdout",
     "output_type": "stream",
     "text": [
      "torch.Size([32, 3, 299, 299])\n"
     ]
    },
    {
     "name": "stderr",
     "output_type": "stream",
     "text": [
      " 18%|██████████████████████████████                                                                                                                                            | 3/17 [01:27<06:50, 29.31s/it]"
     ]
    },
    {
     "name": "stdout",
     "output_type": "stream",
     "text": [
      "torch.Size([32, 3, 299, 299])\n"
     ]
    },
    {
     "name": "stderr",
     "output_type": "stream",
     "text": [
      " 24%|████████████████████████████████████████                                                                                                                                  | 4/17 [01:57<06:20, 29.30s/it]"
     ]
    },
    {
     "name": "stdout",
     "output_type": "stream",
     "text": [
      "torch.Size([32, 3, 299, 299])\n"
     ]
    },
    {
     "name": "stderr",
     "output_type": "stream",
     "text": [
      " 29%|██████████████████████████████████████████████████                                                                                                                        | 5/17 [02:26<05:51, 29.29s/it]"
     ]
    },
    {
     "name": "stdout",
     "output_type": "stream",
     "text": [
      "torch.Size([32, 3, 299, 299])\n"
     ]
    },
    {
     "name": "stderr",
     "output_type": "stream",
     "text": [
      " 35%|████████████████████████████████████████████████████████████                                                                                                              | 6/17 [02:55<05:22, 29.31s/it]"
     ]
    },
    {
     "name": "stdout",
     "output_type": "stream",
     "text": [
      "torch.Size([32, 3, 299, 299])\n"
     ]
    },
    {
     "name": "stderr",
     "output_type": "stream",
     "text": [
      " 41%|██████████████████████████████████████████████████████████████████████                                                                                                    | 7/17 [03:25<04:53, 29.31s/it]"
     ]
    },
    {
     "name": "stdout",
     "output_type": "stream",
     "text": [
      "torch.Size([32, 3, 299, 299])\n"
     ]
    },
    {
     "name": "stderr",
     "output_type": "stream",
     "text": [
      " 47%|████████████████████████████████████████████████████████████████████████████████                                                                                          | 8/17 [03:54<04:23, 29.30s/it]"
     ]
    },
    {
     "name": "stdout",
     "output_type": "stream",
     "text": [
      "torch.Size([32, 3, 299, 299])\n"
     ]
    },
    {
     "name": "stderr",
     "output_type": "stream",
     "text": [
      " 53%|██████████████████████████████████████████████████████████████████████████████████████████                                                                                | 9/17 [04:23<03:54, 29.30s/it]"
     ]
    },
    {
     "name": "stdout",
     "output_type": "stream",
     "text": [
      "torch.Size([32, 3, 299, 299])\n"
     ]
    },
    {
     "name": "stderr",
     "output_type": "stream",
     "text": [
      " 59%|███████████████████████████████████████████████████████████████████████████████████████████████████▍                                                                     | 10/17 [04:52<03:25, 29.30s/it]"
     ]
    },
    {
     "name": "stdout",
     "output_type": "stream",
     "text": [
      "torch.Size([32, 3, 299, 299])\n"
     ]
    },
    {
     "name": "stderr",
     "output_type": "stream",
     "text": [
      " 65%|█████████████████████████████████████████████████████████████████████████████████████████████████████████████▎                                                           | 11/17 [05:22<02:55, 29.30s/it]"
     ]
    },
    {
     "name": "stdout",
     "output_type": "stream",
     "text": [
      "torch.Size([32, 3, 299, 299])\n"
     ]
    },
    {
     "name": "stderr",
     "output_type": "stream",
     "text": [
      " 71%|███████████████████████████████████████████████████████████████████████████████████████████████████████████████████████▎                                                 | 12/17 [05:51<02:26, 29.32s/it]"
     ]
    },
    {
     "name": "stdout",
     "output_type": "stream",
     "text": [
      "torch.Size([32, 3, 299, 299])\n"
     ]
    },
    {
     "name": "stderr",
     "output_type": "stream",
     "text": [
      " 76%|█████████████████████████████████████████████████████████████████████████████████████████████████████████████████████████████████▏                                       | 13/17 [06:20<01:57, 29.31s/it]"
     ]
    },
    {
     "name": "stdout",
     "output_type": "stream",
     "text": [
      "torch.Size([32, 3, 299, 299])\n"
     ]
    },
    {
     "name": "stderr",
     "output_type": "stream",
     "text": [
      " 82%|███████████████████████████████████████████████████████████████████████████████████████████████████████████████████████████████████████████▏                             | 14/17 [06:50<01:27, 29.29s/it]"
     ]
    },
    {
     "name": "stdout",
     "output_type": "stream",
     "text": [
      "torch.Size([32, 3, 299, 299])\n"
     ]
    },
    {
     "name": "stderr",
     "output_type": "stream",
     "text": [
      " 88%|█████████████████████████████████████████████████████████████████████████████████████████████████████████████████████████████████████████████████████                    | 15/17 [07:19<00:58, 29.31s/it]"
     ]
    },
    {
     "name": "stdout",
     "output_type": "stream",
     "text": [
      "torch.Size([32, 3, 299, 299])\n"
     ]
    },
    {
     "name": "stderr",
     "output_type": "stream",
     "text": [
      " 94%|███████████████████████████████████████████████████████████████████████████████████████████████████████████████████████████████████████████████████████████████          | 16/17 [07:48<00:29, 29.28s/it]"
     ]
    },
    {
     "name": "stdout",
     "output_type": "stream",
     "text": [
      "torch.Size([5, 3, 299, 299])\n"
     ]
    },
    {
     "name": "stderr",
     "output_type": "stream",
     "text": [
      "100%|█████████████████████████████████████████████████████████████████████████████████████████████████████████████████████████████████████████████████████████████████████████| 17/17 [07:53<00:00, 27.86s/it]"
     ]
    },
    {
     "name": "stdout",
     "output_type": "stream",
     "text": [
      "Saving all features and labels for test\n",
      "Saved 517 features map and 517 labels\n"
     ]
    },
    {
     "name": "stderr",
     "output_type": "stream",
     "text": [
      "\n"
     ]
    }
   ],
   "source": [
    "from src.FeatureExtractor import FeatureExtractor\n",
    "\n",
    "feature_extractor = FeatureExtractor(\n",
    "    model_name = \"ResNext\", \n",
    "    model_path = None,\n",
    "    data_path = DATA_PATH, \n",
    "    dest_path = EMBEDDINGS_PATH, \n",
    "    batch_size = BATCH_SIZE, \n",
    "    data_transforms = DATA_TRANSFORMS, \n",
    "    device = \"cpu\",\n",
    ")\n",
    "feature_extractor.extract_features()"
   ]
  }
 ],
 "metadata": {
  "kernelspec": {
   "display_name": "Python 3 (ipykernel)",
   "language": "python",
   "name": "python3"
  },
  "language_info": {
   "codemirror_mode": {
    "name": "ipython",
    "version": 3
   },
   "file_extension": ".py",
   "mimetype": "text/x-python",
   "name": "python",
   "nbconvert_exporter": "python",
   "pygments_lexer": "ipython3",
   "version": "3.8.10"
  }
 },
 "nbformat": 4,
 "nbformat_minor": 5
}
