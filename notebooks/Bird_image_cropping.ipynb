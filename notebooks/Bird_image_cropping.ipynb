{
 "cells": [
  {
   "cell_type": "code",
   "execution_count": null,
   "id": "e7ac1e26-eb64-42ce-92f7-641ce111b17a",
   "metadata": {},
   "outputs": [],
   "source": [
    "import sys\n",
    "import warnings\n",
    "sys.path.append(\"/Users/chloesekkat/Documents/MVA/recvis21_a3\")\n",
    "\n",
    "%load_ext autoreload\n",
    "%autoreload 2"
   ]
  },
  {
   "cell_type": "code",
   "execution_count": null,
   "id": "85ca304e-ce45-4b80-8048-1658580be375",
   "metadata": {},
   "outputs": [],
   "source": [
    "from src.BirdImageCropper import BirdImageCropper"
   ]
  },
  {
   "cell_type": "code",
   "execution_count": null,
   "id": "b76a7b60-15f3-4d74-8e63-5aa8393506bc",
   "metadata": {},
   "outputs": [],
   "source": [
    "BATCH_SIZE = 32\n",
    "DATA_PATH = \"../cropped_bird_dataset\""
   ]
  },
  {
   "cell_type": "code",
   "execution_count": null,
   "id": "ec27718a-373f-41f7-bfd9-dd932cfd6ef4",
   "metadata": {},
   "outputs": [],
   "source": [
    "cropper = BirdImageCropper(DATA_PATH, BATCH_SIZE)"
   ]
  },
  {
   "cell_type": "code",
   "execution_count": null,
   "id": "98e5456f-2f4b-4da8-b2eb-722306e2ff84",
   "metadata": {},
   "outputs": [],
   "source": [
    "cropper.get_birds_images_cropped()"
   ]
  },
  {
   "cell_type": "code",
   "execution_count": null,
   "id": "737b9497-bd25-48a1-bd9d-e883469dd40b",
   "metadata": {},
   "outputs": [],
   "source": []
  }
 ],
 "metadata": {
  "kernelspec": {
   "display_name": "Python 3 (ipykernel)",
   "language": "python",
   "name": "python3"
  },
  "language_info": {
   "codemirror_mode": {
    "name": "ipython",
    "version": 3
   },
   "file_extension": ".py",
   "mimetype": "text/x-python",
   "name": "python",
   "nbconvert_exporter": "python",
   "pygments_lexer": "ipython3",
   "version": "3.8.6"
  }
 },
 "nbformat": 4,
 "nbformat_minor": 5
}
